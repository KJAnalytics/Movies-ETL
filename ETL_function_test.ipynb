{
 "cells": [
  {
   "cell_type": "code",
   "execution_count": 1,
   "id": "0149f651",
   "metadata": {},
   "outputs": [],
   "source": [
    "# from config import db_password\n",
    "import json\n",
    "import pandas as pd\n",
    "import numpy as np\n",
    "import os\n",
    "import re\n",
    "from sqlalchemy import create_engine\n",
    "import time\n",
    "from config import db_password\n",
    "import psycopg2\n",
    "import time   \n"
   ]
  },
  {
   "cell_type": "code",
   "execution_count": null,
   "id": "4d87227c",
   "metadata": {},
   "outputs": [],
   "source": [
    "# 1. Create a function that takes in three arguments;\n",
    "# Wikipedia data, Kaggle metadata, and MovieLens rating data (from Kaggle)\n",
    "\n",
    "def extract_transform_load(wiki, kaggle,  ratings):\n",
    "    # 2. Read in the kaggle metadata and MovieLens ratings CSV files as Pandas DataFrames.\n",
    "    kaggle_metadata = pd.read_csv(kaggle, low_memory=False)\n",
    "    ratings = pd.read_csv(ratings, low_memory=False\n",
    "\n",
    "    # 3. Open the read the Wikipedia data JSON file.\n",
    "    with open(wiki, mode='r') as file:\n",
    "        wiki_movies_raw = json.load(file)\n",
    "        \n",
    "    # 4. Read in the raw wiki movie data as a Pandas DataFrame.\n",
    "    wiki_movies_df = pd.DataFrame(wiki_movies_raw)\n",
    "    # 5. Return the three DataFrames\n",
    "    return wiki_movies_df, kaggle_metadata, ratings\n"
   ]
  },
  {
   "cell_type": "code",
   "execution_count": null,
   "id": "8fa3b6ca",
   "metadata": {},
   "outputs": [],
   "source": [
    "# 6 Create the path to your file directory and variables for the three files. \n",
    "file_dir = '/users/karla/documents/GitHub/Movies-ETL'\n",
    "# Wikipedia data\n",
    "wiki_file = f'{file_dir}/wikipedia-movies.json'\n",
    "# Kaggle metadata\n",
    "kaggle_file = f'{file_dir}/movies_metadata.csv'\n",
    "# MovieLens rating data.\n",
    "ratings_file = f'{file_dir}/ratings.csv'\n"
   ]
  },
  {
   "cell_type": "code",
   "execution_count": null,
   "id": "877d8b02",
   "metadata": {},
   "outputs": [],
   "source": [
    "# 7. Set the three variables in Step 6 equal to the function created in Step 1.\n",
    "wiki_file, kaggle_file, ratings_file = extract_transform_load(wiki_file, kaggle_file, ratings_file)"
   ]
  },
  {
   "cell_type": "code",
   "execution_count": null,
   "id": "5646a39c",
   "metadata": {},
   "outputs": [],
   "source": [
    "# 8. Set the DataFrames from the return statement equal to the file names in Step 6. \n",
    "wiki_movies_df = wiki_file\n",
    "kaggle_metadata = kaggle_file\n",
    "ratings = ratings_file"
   ]
  },
  {
   "cell_type": "code",
   "execution_count": null,
   "id": "db072dee",
   "metadata": {},
   "outputs": [],
   "source": [
    "# 9. Check the wiki_movies_df DataFrame.\n",
    "wiki_movies_df.head()"
   ]
  },
  {
   "cell_type": "code",
   "execution_count": null,
   "id": "fd586fb7",
   "metadata": {},
   "outputs": [],
   "source": [
    "# 10. Check the kaggle_metadata DataFrame.\n",
    "kaggle_metadata.head()"
   ]
  },
  {
   "cell_type": "code",
   "execution_count": null,
   "id": "228d99dc",
   "metadata": {},
   "outputs": [],
   "source": [
    "# 11. Check the ratings DataFrame.\n",
    "ratings.head()"
   ]
  },
  {
   "cell_type": "code",
   "execution_count": null,
   "id": "95c52126",
   "metadata": {},
   "outputs": [],
   "source": []
  }
 ],
 "metadata": {
  "kernelspec": {
   "display_name": "PythonData",
   "language": "python",
   "name": "pythondata"
  },
  "language_info": {
   "codemirror_mode": {
    "name": "ipython",
    "version": 3
   },
   "file_extension": ".py",
   "mimetype": "text/x-python",
   "name": "python",
   "nbconvert_exporter": "python",
   "pygments_lexer": "ipython3",
   "version": "3.7.13"
  }
 },
 "nbformat": 4,
 "nbformat_minor": 5
}
